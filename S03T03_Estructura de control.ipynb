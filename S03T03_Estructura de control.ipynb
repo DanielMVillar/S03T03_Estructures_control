{
 "cells": [
  {
   "cell_type": "markdown",
   "id": "3ea38eca",
   "metadata": {},
   "source": [
    "### Exercici 1\n",
    "\n",
    "#### L'exercici consisteix a crear un programa que et classifiqui una variable numèrica en funció de l’escala Suspès/Aprovat/Notable/Excel·lent."
   ]
  },
  {
   "cell_type": "code",
   "execution_count": 9,
   "id": "598f8682",
   "metadata": {},
   "outputs": [
    {
     "name": "stdout",
     "output_type": "stream",
     "text": [
      "Introdueix nota:\n",
      "4\n",
      "suspès\n"
     ]
    }
   ],
   "source": [
    "print (\"Introdueix nota:\")\n",
    "nota = int(input())\n",
    "if nota <= 0 or nota <= 4:\n",
    "    print(\"suspès\")\n",
    "elif nota <= 5 or nota <= 6:\n",
    "    print(\"aprovat\")\n",
    "elif nota <= 7 or nota <= 8:\n",
    "    print(\"notable\")\n",
    "else:\n",
    "    print(\"excel.lent\")\n",
    "    "
   ]
  },
  {
   "cell_type": "markdown",
   "id": "8e43fcbc",
   "metadata": {},
   "source": [
    "### Exercici 2\n",
    "\n",
    "#### Utilitzant el següent tutorial Programiz: Python Input, Output and Import crea un programa que et pregunti dos números. T’ha de mostrar un missatge dient si el primer és més gran, el segon és més gran o són iguals."
   ]
  },
  {
   "cell_type": "code",
   "execution_count": 13,
   "id": "c7936085",
   "metadata": {},
   "outputs": [
    {
     "name": "stdout",
     "output_type": "stream",
     "text": [
      "Introdueix número 1:\n",
      "8\n",
      "Introdueix número 2:\n",
      "4\n",
      "el número 1 es més gran que el número 2\n"
     ]
    }
   ],
   "source": [
    "print (\"Introdueix número 1:\")\n",
    "n1 = int(input())\n",
    "print (\"Introdueix número 2:\")\n",
    "n2 = int(input())\n",
    "if n1 > n2:\n",
    "    print(\"el número 1 es més gran que el número 2\")\n",
    "elif n1 < n2:\n",
    "    print(\"el número 2 es més gran que el número 1\")\n",
    "else:\n",
    "    print(\"els dos números son iguals\")"
   ]
  },
  {
   "cell_type": "markdown",
   "id": "e5d14827",
   "metadata": {},
   "source": [
    "### Exercici 3\n",
    "\n",
    "#### Crea un programa que et pregunti el teu nom, i et demani un número. Si el número és 0, hauria de mostrar un missatge d’error. En cas contrari, hauria de mostrar el nom repetit tants cops com indiqui el número. Per exemple, “Joan Joan Joan”."
   ]
  },
  {
   "cell_type": "code",
   "execution_count": 22,
   "id": "19297a22",
   "metadata": {},
   "outputs": [
    {
     "name": "stdout",
     "output_type": "stream",
     "text": [
      "Introdueix el teu nom:\n",
      "daniel\n",
      "Introdueix un número:\n",
      "6\n",
      "daniel\n",
      "daniel\n",
      "daniel\n",
      "daniel\n",
      "daniel\n",
      "daniel\n"
     ]
    }
   ],
   "source": [
    "print (\"Introdueix el teu nom:\")\n",
    "nom = input()\n",
    "print (\"Introdueix un número:\")\n",
    "num = int(input())\n",
    "if num == 0:\n",
    "    print(\"error: el número zero no es vàlid\")\n",
    "else:\n",
    "  i = 0\n",
    "  while i < num:\n",
    "    print(nom)\n",
    "    i += 1\n"
   ]
  },
  {
   "cell_type": "markdown",
   "id": "1f7377a9",
   "metadata": {},
   "source": [
    "### Exercici 4\n",
    "\n",
    "#### Crea un programa que donada una llista qualsevol, et digui si es simètrica o no. Si ho és, que et digui quants elements té."
   ]
  },
  {
   "cell_type": "code",
   "execution_count": 5,
   "id": "ea0dd1f0",
   "metadata": {},
   "outputs": [
    {
     "name": "stdout",
     "output_type": "stream",
     "text": [
      "Introdueix número d'elements de la llista:\n",
      "5\n",
      "introdueix l'element 1 :\n",
      "4\n",
      "introdueix l'element 2 :\n",
      "3\n",
      "introdueix l'element 3 :\n",
      "4\n",
      "introdueix l'element 4 :\n",
      "3\n",
      "introdueix l'element 5 :\n",
      "2\n",
      "[4, 3, 4, 3, 2]\n",
      "no és simétric\n"
     ]
    }
   ],
   "source": [
    "print (\"Introdueix número d'elements de la llista:\")\n",
    "n_el = int(input())\n",
    "\n",
    "i = 1\n",
    "lista = []\n",
    "while i <= n_el:\n",
    "    print (\"introdueix l'element\", i,\":\")\n",
    "    elem = int(input())\n",
    "    lista.append(elem)\n",
    "    i += 1\n",
    "\n",
    "print (lista)    \n",
    "\n",
    "x=0\n",
    "y=-1\n",
    "z = 0\n",
    "if (n_el % 2 == 0):\n",
    "    while x <= (n_el/2):\n",
    "        if lista[x] == lista[y]:\n",
    "            z = 1\n",
    "            x += 1\n",
    "            y += -1\n",
    "        else:\n",
    "          z = 0\n",
    "          break\n",
    "\n",
    "if z == 1:\n",
    "    print('és simetric i té ',len(lista), 'elements')\n",
    "else:\n",
    "    print('no és simétric')"
   ]
  },
  {
   "cell_type": "markdown",
   "id": "ed10fa31",
   "metadata": {},
   "source": [
    "### Exercici 5\n",
    "\n",
    "#### Crea un programa que donada una llista, et digui quants números coincideixen amb la seva posició. Per exemple [3,4,2,0,2,3,6] el 2 i el 6 coincideixen."
   ]
  },
  {
   "cell_type": "code",
   "execution_count": 11,
   "id": "0cd74c43",
   "metadata": {},
   "outputs": [
    {
     "name": "stdout",
     "output_type": "stream",
     "text": [
      "Introdueix número d'elements de la llista:\n",
      "4\n",
      "introdueix l'element 1 :\n",
      "0\n",
      "introdueix l'element 2 :\n",
      "3\n",
      "introdueix l'element 3 :\n",
      "4\n",
      "introdueix l'element 4 :\n",
      "5\n",
      "[0, 3, 4, 5]\n",
      "el número 0 coincideix amb posició [ 0 ]\n",
      "Coincideixen 1 elements de la llista\n"
     ]
    }
   ],
   "source": [
    "print (\"Introdueix número d'elements de la llista:\")\n",
    "n_el = int(input())\n",
    "\n",
    "i = 1\n",
    "lista = []\n",
    "while i <= n_el:\n",
    "    print (\"introdueix l'element\", i,\":\")\n",
    "    elem = int(input())\n",
    "    lista.append(elem)\n",
    "    i += 1\n",
    "print (lista)    \n",
    "\n",
    "j = 0\n",
    "z = 0\n",
    "for x in lista:\n",
    "    if x == j:\n",
    "        print('el número',x, 'coincideix amb posició [',j,']')\n",
    "        z += 1\n",
    "    j += 1\n",
    "\n",
    "print(\"Coincideixen\", z, \"elements de la llista\")    "
   ]
  },
  {
   "cell_type": "code",
   "execution_count": null,
   "id": "e121149b",
   "metadata": {},
   "outputs": [],
   "source": []
  }
 ],
 "metadata": {
  "kernelspec": {
   "display_name": "Python 3",
   "language": "python",
   "name": "python3"
  },
  "language_info": {
   "codemirror_mode": {
    "name": "ipython",
    "version": 3
   },
   "file_extension": ".py",
   "mimetype": "text/x-python",
   "name": "python",
   "nbconvert_exporter": "python",
   "pygments_lexer": "ipython3",
   "version": "3.9.1"
  }
 },
 "nbformat": 4,
 "nbformat_minor": 5
}
